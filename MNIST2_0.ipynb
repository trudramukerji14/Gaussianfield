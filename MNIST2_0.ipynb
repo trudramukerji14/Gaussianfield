{
  "nbformat": 4,
  "nbformat_minor": 0,
  "metadata": {
    "colab": {
      "provenance": [],
      "collapsed_sections": [],
      "authorship_tag": "ABX9TyPsWxKIANiCHQCZME47OOYb",
      "include_colab_link": true
    },
    "kernelspec": {
      "name": "python3",
      "display_name": "Python 3"
    },
    "language_info": {
      "name": "python"
    },
    "widgets": {
      "application/vnd.jupyter.widget-state+json": {
        "a000717ddcad430f95fd2bc9dd79bf5e": {
          "model_module": "@jupyter-widgets/controls",
          "model_name": "HBoxModel",
          "model_module_version": "1.5.0",
          "state": {
            "_dom_classes": [],
            "_model_module": "@jupyter-widgets/controls",
            "_model_module_version": "1.5.0",
            "_model_name": "HBoxModel",
            "_view_count": null,
            "_view_module": "@jupyter-widgets/controls",
            "_view_module_version": "1.5.0",
            "_view_name": "HBoxView",
            "box_style": "",
            "children": [
              "IPY_MODEL_0bcf467133aa4200ab91271201f76967",
              "IPY_MODEL_c6097b638ae749eb972c02141f9aa13e",
              "IPY_MODEL_0468251f79bf49de84ef9a048d7b7d54"
            ],
            "layout": "IPY_MODEL_47c17a6795dc4cc6bd30c0bbc09ffae5"
          }
        },
        "0bcf467133aa4200ab91271201f76967": {
          "model_module": "@jupyter-widgets/controls",
          "model_name": "HTMLModel",
          "model_module_version": "1.5.0",
          "state": {
            "_dom_classes": [],
            "_model_module": "@jupyter-widgets/controls",
            "_model_module_version": "1.5.0",
            "_model_name": "HTMLModel",
            "_view_count": null,
            "_view_module": "@jupyter-widgets/controls",
            "_view_module_version": "1.5.0",
            "_view_name": "HTMLView",
            "description": "",
            "description_tooltip": null,
            "layout": "IPY_MODEL_116fd0c53b764f2facb916f069b7a19d",
            "placeholder": "​",
            "style": "IPY_MODEL_e8e94b5b432b498f8a478602e2a309f3",
            "value": "100%"
          }
        },
        "c6097b638ae749eb972c02141f9aa13e": {
          "model_module": "@jupyter-widgets/controls",
          "model_name": "FloatProgressModel",
          "model_module_version": "1.5.0",
          "state": {
            "_dom_classes": [],
            "_model_module": "@jupyter-widgets/controls",
            "_model_module_version": "1.5.0",
            "_model_name": "FloatProgressModel",
            "_view_count": null,
            "_view_module": "@jupyter-widgets/controls",
            "_view_module_version": "1.5.0",
            "_view_name": "ProgressView",
            "bar_style": "success",
            "description": "",
            "description_tooltip": null,
            "layout": "IPY_MODEL_929d6939b77d4d48a7b4cc60b123f9a8",
            "max": 9912422,
            "min": 0,
            "orientation": "horizontal",
            "style": "IPY_MODEL_7b3226c16b4d49a0af3da9ff0e69edb1",
            "value": 9912422
          }
        },
        "0468251f79bf49de84ef9a048d7b7d54": {
          "model_module": "@jupyter-widgets/controls",
          "model_name": "HTMLModel",
          "model_module_version": "1.5.0",
          "state": {
            "_dom_classes": [],
            "_model_module": "@jupyter-widgets/controls",
            "_model_module_version": "1.5.0",
            "_model_name": "HTMLModel",
            "_view_count": null,
            "_view_module": "@jupyter-widgets/controls",
            "_view_module_version": "1.5.0",
            "_view_name": "HTMLView",
            "description": "",
            "description_tooltip": null,
            "layout": "IPY_MODEL_beb6242bc0844d5daab570e48f068ed6",
            "placeholder": "​",
            "style": "IPY_MODEL_8ea24518293a4dac8dc42c0211ee949d",
            "value": " 9912422/9912422 [00:00&lt;00:00, 17170155.52it/s]"
          }
        },
        "47c17a6795dc4cc6bd30c0bbc09ffae5": {
          "model_module": "@jupyter-widgets/base",
          "model_name": "LayoutModel",
          "model_module_version": "1.2.0",
          "state": {
            "_model_module": "@jupyter-widgets/base",
            "_model_module_version": "1.2.0",
            "_model_name": "LayoutModel",
            "_view_count": null,
            "_view_module": "@jupyter-widgets/base",
            "_view_module_version": "1.2.0",
            "_view_name": "LayoutView",
            "align_content": null,
            "align_items": null,
            "align_self": null,
            "border": null,
            "bottom": null,
            "display": null,
            "flex": null,
            "flex_flow": null,
            "grid_area": null,
            "grid_auto_columns": null,
            "grid_auto_flow": null,
            "grid_auto_rows": null,
            "grid_column": null,
            "grid_gap": null,
            "grid_row": null,
            "grid_template_areas": null,
            "grid_template_columns": null,
            "grid_template_rows": null,
            "height": null,
            "justify_content": null,
            "justify_items": null,
            "left": null,
            "margin": null,
            "max_height": null,
            "max_width": null,
            "min_height": null,
            "min_width": null,
            "object_fit": null,
            "object_position": null,
            "order": null,
            "overflow": null,
            "overflow_x": null,
            "overflow_y": null,
            "padding": null,
            "right": null,
            "top": null,
            "visibility": null,
            "width": null
          }
        },
        "116fd0c53b764f2facb916f069b7a19d": {
          "model_module": "@jupyter-widgets/base",
          "model_name": "LayoutModel",
          "model_module_version": "1.2.0",
          "state": {
            "_model_module": "@jupyter-widgets/base",
            "_model_module_version": "1.2.0",
            "_model_name": "LayoutModel",
            "_view_count": null,
            "_view_module": "@jupyter-widgets/base",
            "_view_module_version": "1.2.0",
            "_view_name": "LayoutView",
            "align_content": null,
            "align_items": null,
            "align_self": null,
            "border": null,
            "bottom": null,
            "display": null,
            "flex": null,
            "flex_flow": null,
            "grid_area": null,
            "grid_auto_columns": null,
            "grid_auto_flow": null,
            "grid_auto_rows": null,
            "grid_column": null,
            "grid_gap": null,
            "grid_row": null,
            "grid_template_areas": null,
            "grid_template_columns": null,
            "grid_template_rows": null,
            "height": null,
            "justify_content": null,
            "justify_items": null,
            "left": null,
            "margin": null,
            "max_height": null,
            "max_width": null,
            "min_height": null,
            "min_width": null,
            "object_fit": null,
            "object_position": null,
            "order": null,
            "overflow": null,
            "overflow_x": null,
            "overflow_y": null,
            "padding": null,
            "right": null,
            "top": null,
            "visibility": null,
            "width": null
          }
        },
        "e8e94b5b432b498f8a478602e2a309f3": {
          "model_module": "@jupyter-widgets/controls",
          "model_name": "DescriptionStyleModel",
          "model_module_version": "1.5.0",
          "state": {
            "_model_module": "@jupyter-widgets/controls",
            "_model_module_version": "1.5.0",
            "_model_name": "DescriptionStyleModel",
            "_view_count": null,
            "_view_module": "@jupyter-widgets/base",
            "_view_module_version": "1.2.0",
            "_view_name": "StyleView",
            "description_width": ""
          }
        },
        "929d6939b77d4d48a7b4cc60b123f9a8": {
          "model_module": "@jupyter-widgets/base",
          "model_name": "LayoutModel",
          "model_module_version": "1.2.0",
          "state": {
            "_model_module": "@jupyter-widgets/base",
            "_model_module_version": "1.2.0",
            "_model_name": "LayoutModel",
            "_view_count": null,
            "_view_module": "@jupyter-widgets/base",
            "_view_module_version": "1.2.0",
            "_view_name": "LayoutView",
            "align_content": null,
            "align_items": null,
            "align_self": null,
            "border": null,
            "bottom": null,
            "display": null,
            "flex": null,
            "flex_flow": null,
            "grid_area": null,
            "grid_auto_columns": null,
            "grid_auto_flow": null,
            "grid_auto_rows": null,
            "grid_column": null,
            "grid_gap": null,
            "grid_row": null,
            "grid_template_areas": null,
            "grid_template_columns": null,
            "grid_template_rows": null,
            "height": null,
            "justify_content": null,
            "justify_items": null,
            "left": null,
            "margin": null,
            "max_height": null,
            "max_width": null,
            "min_height": null,
            "min_width": null,
            "object_fit": null,
            "object_position": null,
            "order": null,
            "overflow": null,
            "overflow_x": null,
            "overflow_y": null,
            "padding": null,
            "right": null,
            "top": null,
            "visibility": null,
            "width": null
          }
        },
        "7b3226c16b4d49a0af3da9ff0e69edb1": {
          "model_module": "@jupyter-widgets/controls",
          "model_name": "ProgressStyleModel",
          "model_module_version": "1.5.0",
          "state": {
            "_model_module": "@jupyter-widgets/controls",
            "_model_module_version": "1.5.0",
            "_model_name": "ProgressStyleModel",
            "_view_count": null,
            "_view_module": "@jupyter-widgets/base",
            "_view_module_version": "1.2.0",
            "_view_name": "StyleView",
            "bar_color": null,
            "description_width": ""
          }
        },
        "beb6242bc0844d5daab570e48f068ed6": {
          "model_module": "@jupyter-widgets/base",
          "model_name": "LayoutModel",
          "model_module_version": "1.2.0",
          "state": {
            "_model_module": "@jupyter-widgets/base",
            "_model_module_version": "1.2.0",
            "_model_name": "LayoutModel",
            "_view_count": null,
            "_view_module": "@jupyter-widgets/base",
            "_view_module_version": "1.2.0",
            "_view_name": "LayoutView",
            "align_content": null,
            "align_items": null,
            "align_self": null,
            "border": null,
            "bottom": null,
            "display": null,
            "flex": null,
            "flex_flow": null,
            "grid_area": null,
            "grid_auto_columns": null,
            "grid_auto_flow": null,
            "grid_auto_rows": null,
            "grid_column": null,
            "grid_gap": null,
            "grid_row": null,
            "grid_template_areas": null,
            "grid_template_columns": null,
            "grid_template_rows": null,
            "height": null,
            "justify_content": null,
            "justify_items": null,
            "left": null,
            "margin": null,
            "max_height": null,
            "max_width": null,
            "min_height": null,
            "min_width": null,
            "object_fit": null,
            "object_position": null,
            "order": null,
            "overflow": null,
            "overflow_x": null,
            "overflow_y": null,
            "padding": null,
            "right": null,
            "top": null,
            "visibility": null,
            "width": null
          }
        },
        "8ea24518293a4dac8dc42c0211ee949d": {
          "model_module": "@jupyter-widgets/controls",
          "model_name": "DescriptionStyleModel",
          "model_module_version": "1.5.0",
          "state": {
            "_model_module": "@jupyter-widgets/controls",
            "_model_module_version": "1.5.0",
            "_model_name": "DescriptionStyleModel",
            "_view_count": null,
            "_view_module": "@jupyter-widgets/base",
            "_view_module_version": "1.2.0",
            "_view_name": "StyleView",
            "description_width": ""
          }
        },
        "89a62ee37bc1436daa44164e244a7a6a": {
          "model_module": "@jupyter-widgets/controls",
          "model_name": "HBoxModel",
          "model_module_version": "1.5.0",
          "state": {
            "_dom_classes": [],
            "_model_module": "@jupyter-widgets/controls",
            "_model_module_version": "1.5.0",
            "_model_name": "HBoxModel",
            "_view_count": null,
            "_view_module": "@jupyter-widgets/controls",
            "_view_module_version": "1.5.0",
            "_view_name": "HBoxView",
            "box_style": "",
            "children": [
              "IPY_MODEL_4dea3d91939a4afe8a1272d335287b9a",
              "IPY_MODEL_90b826f0970748d8b5fa74b8c7df2b68",
              "IPY_MODEL_10fca22719474fde87d53f9ea7012376"
            ],
            "layout": "IPY_MODEL_29b9952420ca458891275ecd82c8b7c6"
          }
        },
        "4dea3d91939a4afe8a1272d335287b9a": {
          "model_module": "@jupyter-widgets/controls",
          "model_name": "HTMLModel",
          "model_module_version": "1.5.0",
          "state": {
            "_dom_classes": [],
            "_model_module": "@jupyter-widgets/controls",
            "_model_module_version": "1.5.0",
            "_model_name": "HTMLModel",
            "_view_count": null,
            "_view_module": "@jupyter-widgets/controls",
            "_view_module_version": "1.5.0",
            "_view_name": "HTMLView",
            "description": "",
            "description_tooltip": null,
            "layout": "IPY_MODEL_23076309d1ad41aea3d8393d913fae38",
            "placeholder": "​",
            "style": "IPY_MODEL_65a84fce217347ddb4c9e795dda1de65",
            "value": "100%"
          }
        },
        "90b826f0970748d8b5fa74b8c7df2b68": {
          "model_module": "@jupyter-widgets/controls",
          "model_name": "FloatProgressModel",
          "model_module_version": "1.5.0",
          "state": {
            "_dom_classes": [],
            "_model_module": "@jupyter-widgets/controls",
            "_model_module_version": "1.5.0",
            "_model_name": "FloatProgressModel",
            "_view_count": null,
            "_view_module": "@jupyter-widgets/controls",
            "_view_module_version": "1.5.0",
            "_view_name": "ProgressView",
            "bar_style": "success",
            "description": "",
            "description_tooltip": null,
            "layout": "IPY_MODEL_807b3a6bb2ff479db1e20d94ee715f2f",
            "max": 28881,
            "min": 0,
            "orientation": "horizontal",
            "style": "IPY_MODEL_fa126d6dbc144d869efedbfaba627c7e",
            "value": 28881
          }
        },
        "10fca22719474fde87d53f9ea7012376": {
          "model_module": "@jupyter-widgets/controls",
          "model_name": "HTMLModel",
          "model_module_version": "1.5.0",
          "state": {
            "_dom_classes": [],
            "_model_module": "@jupyter-widgets/controls",
            "_model_module_version": "1.5.0",
            "_model_name": "HTMLModel",
            "_view_count": null,
            "_view_module": "@jupyter-widgets/controls",
            "_view_module_version": "1.5.0",
            "_view_name": "HTMLView",
            "description": "",
            "description_tooltip": null,
            "layout": "IPY_MODEL_b0d820f65b3b4bd59f12f6ee0e61fa34",
            "placeholder": "​",
            "style": "IPY_MODEL_b5e7c30e7b6b4b549c56855e0b15c94d",
            "value": " 28881/28881 [00:00&lt;00:00, 165793.73it/s]"
          }
        },
        "29b9952420ca458891275ecd82c8b7c6": {
          "model_module": "@jupyter-widgets/base",
          "model_name": "LayoutModel",
          "model_module_version": "1.2.0",
          "state": {
            "_model_module": "@jupyter-widgets/base",
            "_model_module_version": "1.2.0",
            "_model_name": "LayoutModel",
            "_view_count": null,
            "_view_module": "@jupyter-widgets/base",
            "_view_module_version": "1.2.0",
            "_view_name": "LayoutView",
            "align_content": null,
            "align_items": null,
            "align_self": null,
            "border": null,
            "bottom": null,
            "display": null,
            "flex": null,
            "flex_flow": null,
            "grid_area": null,
            "grid_auto_columns": null,
            "grid_auto_flow": null,
            "grid_auto_rows": null,
            "grid_column": null,
            "grid_gap": null,
            "grid_row": null,
            "grid_template_areas": null,
            "grid_template_columns": null,
            "grid_template_rows": null,
            "height": null,
            "justify_content": null,
            "justify_items": null,
            "left": null,
            "margin": null,
            "max_height": null,
            "max_width": null,
            "min_height": null,
            "min_width": null,
            "object_fit": null,
            "object_position": null,
            "order": null,
            "overflow": null,
            "overflow_x": null,
            "overflow_y": null,
            "padding": null,
            "right": null,
            "top": null,
            "visibility": null,
            "width": null
          }
        },
        "23076309d1ad41aea3d8393d913fae38": {
          "model_module": "@jupyter-widgets/base",
          "model_name": "LayoutModel",
          "model_module_version": "1.2.0",
          "state": {
            "_model_module": "@jupyter-widgets/base",
            "_model_module_version": "1.2.0",
            "_model_name": "LayoutModel",
            "_view_count": null,
            "_view_module": "@jupyter-widgets/base",
            "_view_module_version": "1.2.0",
            "_view_name": "LayoutView",
            "align_content": null,
            "align_items": null,
            "align_self": null,
            "border": null,
            "bottom": null,
            "display": null,
            "flex": null,
            "flex_flow": null,
            "grid_area": null,
            "grid_auto_columns": null,
            "grid_auto_flow": null,
            "grid_auto_rows": null,
            "grid_column": null,
            "grid_gap": null,
            "grid_row": null,
            "grid_template_areas": null,
            "grid_template_columns": null,
            "grid_template_rows": null,
            "height": null,
            "justify_content": null,
            "justify_items": null,
            "left": null,
            "margin": null,
            "max_height": null,
            "max_width": null,
            "min_height": null,
            "min_width": null,
            "object_fit": null,
            "object_position": null,
            "order": null,
            "overflow": null,
            "overflow_x": null,
            "overflow_y": null,
            "padding": null,
            "right": null,
            "top": null,
            "visibility": null,
            "width": null
          }
        },
        "65a84fce217347ddb4c9e795dda1de65": {
          "model_module": "@jupyter-widgets/controls",
          "model_name": "DescriptionStyleModel",
          "model_module_version": "1.5.0",
          "state": {
            "_model_module": "@jupyter-widgets/controls",
            "_model_module_version": "1.5.0",
            "_model_name": "DescriptionStyleModel",
            "_view_count": null,
            "_view_module": "@jupyter-widgets/base",
            "_view_module_version": "1.2.0",
            "_view_name": "StyleView",
            "description_width": ""
          }
        },
        "807b3a6bb2ff479db1e20d94ee715f2f": {
          "model_module": "@jupyter-widgets/base",
          "model_name": "LayoutModel",
          "model_module_version": "1.2.0",
          "state": {
            "_model_module": "@jupyter-widgets/base",
            "_model_module_version": "1.2.0",
            "_model_name": "LayoutModel",
            "_view_count": null,
            "_view_module": "@jupyter-widgets/base",
            "_view_module_version": "1.2.0",
            "_view_name": "LayoutView",
            "align_content": null,
            "align_items": null,
            "align_self": null,
            "border": null,
            "bottom": null,
            "display": null,
            "flex": null,
            "flex_flow": null,
            "grid_area": null,
            "grid_auto_columns": null,
            "grid_auto_flow": null,
            "grid_auto_rows": null,
            "grid_column": null,
            "grid_gap": null,
            "grid_row": null,
            "grid_template_areas": null,
            "grid_template_columns": null,
            "grid_template_rows": null,
            "height": null,
            "justify_content": null,
            "justify_items": null,
            "left": null,
            "margin": null,
            "max_height": null,
            "max_width": null,
            "min_height": null,
            "min_width": null,
            "object_fit": null,
            "object_position": null,
            "order": null,
            "overflow": null,
            "overflow_x": null,
            "overflow_y": null,
            "padding": null,
            "right": null,
            "top": null,
            "visibility": null,
            "width": null
          }
        },
        "fa126d6dbc144d869efedbfaba627c7e": {
          "model_module": "@jupyter-widgets/controls",
          "model_name": "ProgressStyleModel",
          "model_module_version": "1.5.0",
          "state": {
            "_model_module": "@jupyter-widgets/controls",
            "_model_module_version": "1.5.0",
            "_model_name": "ProgressStyleModel",
            "_view_count": null,
            "_view_module": "@jupyter-widgets/base",
            "_view_module_version": "1.2.0",
            "_view_name": "StyleView",
            "bar_color": null,
            "description_width": ""
          }
        },
        "b0d820f65b3b4bd59f12f6ee0e61fa34": {
          "model_module": "@jupyter-widgets/base",
          "model_name": "LayoutModel",
          "model_module_version": "1.2.0",
          "state": {
            "_model_module": "@jupyter-widgets/base",
            "_model_module_version": "1.2.0",
            "_model_name": "LayoutModel",
            "_view_count": null,
            "_view_module": "@jupyter-widgets/base",
            "_view_module_version": "1.2.0",
            "_view_name": "LayoutView",
            "align_content": null,
            "align_items": null,
            "align_self": null,
            "border": null,
            "bottom": null,
            "display": null,
            "flex": null,
            "flex_flow": null,
            "grid_area": null,
            "grid_auto_columns": null,
            "grid_auto_flow": null,
            "grid_auto_rows": null,
            "grid_column": null,
            "grid_gap": null,
            "grid_row": null,
            "grid_template_areas": null,
            "grid_template_columns": null,
            "grid_template_rows": null,
            "height": null,
            "justify_content": null,
            "justify_items": null,
            "left": null,
            "margin": null,
            "max_height": null,
            "max_width": null,
            "min_height": null,
            "min_width": null,
            "object_fit": null,
            "object_position": null,
            "order": null,
            "overflow": null,
            "overflow_x": null,
            "overflow_y": null,
            "padding": null,
            "right": null,
            "top": null,
            "visibility": null,
            "width": null
          }
        },
        "b5e7c30e7b6b4b549c56855e0b15c94d": {
          "model_module": "@jupyter-widgets/controls",
          "model_name": "DescriptionStyleModel",
          "model_module_version": "1.5.0",
          "state": {
            "_model_module": "@jupyter-widgets/controls",
            "_model_module_version": "1.5.0",
            "_model_name": "DescriptionStyleModel",
            "_view_count": null,
            "_view_module": "@jupyter-widgets/base",
            "_view_module_version": "1.2.0",
            "_view_name": "StyleView",
            "description_width": ""
          }
        },
        "f2cac70ba83049d78ccfd462c8f8000e": {
          "model_module": "@jupyter-widgets/controls",
          "model_name": "HBoxModel",
          "model_module_version": "1.5.0",
          "state": {
            "_dom_classes": [],
            "_model_module": "@jupyter-widgets/controls",
            "_model_module_version": "1.5.0",
            "_model_name": "HBoxModel",
            "_view_count": null,
            "_view_module": "@jupyter-widgets/controls",
            "_view_module_version": "1.5.0",
            "_view_name": "HBoxView",
            "box_style": "",
            "children": [
              "IPY_MODEL_c4db5e24ad384ecc825728ba4a230fc2",
              "IPY_MODEL_7f796c04c7f5474a9d461c989c9de426",
              "IPY_MODEL_3600b03c4f114ac698640fb8721ed016"
            ],
            "layout": "IPY_MODEL_fbe69e06a8904d33838f4794246193d0"
          }
        },
        "c4db5e24ad384ecc825728ba4a230fc2": {
          "model_module": "@jupyter-widgets/controls",
          "model_name": "HTMLModel",
          "model_module_version": "1.5.0",
          "state": {
            "_dom_classes": [],
            "_model_module": "@jupyter-widgets/controls",
            "_model_module_version": "1.5.0",
            "_model_name": "HTMLModel",
            "_view_count": null,
            "_view_module": "@jupyter-widgets/controls",
            "_view_module_version": "1.5.0",
            "_view_name": "HTMLView",
            "description": "",
            "description_tooltip": null,
            "layout": "IPY_MODEL_278c820b96164bcdac036bfd0410d016",
            "placeholder": "​",
            "style": "IPY_MODEL_01fc3113622f491fb049dab29700fa9f",
            "value": "100%"
          }
        },
        "7f796c04c7f5474a9d461c989c9de426": {
          "model_module": "@jupyter-widgets/controls",
          "model_name": "FloatProgressModel",
          "model_module_version": "1.5.0",
          "state": {
            "_dom_classes": [],
            "_model_module": "@jupyter-widgets/controls",
            "_model_module_version": "1.5.0",
            "_model_name": "FloatProgressModel",
            "_view_count": null,
            "_view_module": "@jupyter-widgets/controls",
            "_view_module_version": "1.5.0",
            "_view_name": "ProgressView",
            "bar_style": "success",
            "description": "",
            "description_tooltip": null,
            "layout": "IPY_MODEL_c811af290e7c481faecddc336bb1063f",
            "max": 1648877,
            "min": 0,
            "orientation": "horizontal",
            "style": "IPY_MODEL_99ac793fbd3d4b729ea771e49766f9b7",
            "value": 1648877
          }
        },
        "3600b03c4f114ac698640fb8721ed016": {
          "model_module": "@jupyter-widgets/controls",
          "model_name": "HTMLModel",
          "model_module_version": "1.5.0",
          "state": {
            "_dom_classes": [],
            "_model_module": "@jupyter-widgets/controls",
            "_model_module_version": "1.5.0",
            "_model_name": "HTMLModel",
            "_view_count": null,
            "_view_module": "@jupyter-widgets/controls",
            "_view_module_version": "1.5.0",
            "_view_name": "HTMLView",
            "description": "",
            "description_tooltip": null,
            "layout": "IPY_MODEL_98026975f6654ffab634a9df30071d54",
            "placeholder": "​",
            "style": "IPY_MODEL_e4d2c3a012c240b8b110c738bdfd7a2f",
            "value": " 1648877/1648877 [00:00&lt;00:00, 199743.28it/s]"
          }
        },
        "fbe69e06a8904d33838f4794246193d0": {
          "model_module": "@jupyter-widgets/base",
          "model_name": "LayoutModel",
          "model_module_version": "1.2.0",
          "state": {
            "_model_module": "@jupyter-widgets/base",
            "_model_module_version": "1.2.0",
            "_model_name": "LayoutModel",
            "_view_count": null,
            "_view_module": "@jupyter-widgets/base",
            "_view_module_version": "1.2.0",
            "_view_name": "LayoutView",
            "align_content": null,
            "align_items": null,
            "align_self": null,
            "border": null,
            "bottom": null,
            "display": null,
            "flex": null,
            "flex_flow": null,
            "grid_area": null,
            "grid_auto_columns": null,
            "grid_auto_flow": null,
            "grid_auto_rows": null,
            "grid_column": null,
            "grid_gap": null,
            "grid_row": null,
            "grid_template_areas": null,
            "grid_template_columns": null,
            "grid_template_rows": null,
            "height": null,
            "justify_content": null,
            "justify_items": null,
            "left": null,
            "margin": null,
            "max_height": null,
            "max_width": null,
            "min_height": null,
            "min_width": null,
            "object_fit": null,
            "object_position": null,
            "order": null,
            "overflow": null,
            "overflow_x": null,
            "overflow_y": null,
            "padding": null,
            "right": null,
            "top": null,
            "visibility": null,
            "width": null
          }
        },
        "278c820b96164bcdac036bfd0410d016": {
          "model_module": "@jupyter-widgets/base",
          "model_name": "LayoutModel",
          "model_module_version": "1.2.0",
          "state": {
            "_model_module": "@jupyter-widgets/base",
            "_model_module_version": "1.2.0",
            "_model_name": "LayoutModel",
            "_view_count": null,
            "_view_module": "@jupyter-widgets/base",
            "_view_module_version": "1.2.0",
            "_view_name": "LayoutView",
            "align_content": null,
            "align_items": null,
            "align_self": null,
            "border": null,
            "bottom": null,
            "display": null,
            "flex": null,
            "flex_flow": null,
            "grid_area": null,
            "grid_auto_columns": null,
            "grid_auto_flow": null,
            "grid_auto_rows": null,
            "grid_column": null,
            "grid_gap": null,
            "grid_row": null,
            "grid_template_areas": null,
            "grid_template_columns": null,
            "grid_template_rows": null,
            "height": null,
            "justify_content": null,
            "justify_items": null,
            "left": null,
            "margin": null,
            "max_height": null,
            "max_width": null,
            "min_height": null,
            "min_width": null,
            "object_fit": null,
            "object_position": null,
            "order": null,
            "overflow": null,
            "overflow_x": null,
            "overflow_y": null,
            "padding": null,
            "right": null,
            "top": null,
            "visibility": null,
            "width": null
          }
        },
        "01fc3113622f491fb049dab29700fa9f": {
          "model_module": "@jupyter-widgets/controls",
          "model_name": "DescriptionStyleModel",
          "model_module_version": "1.5.0",
          "state": {
            "_model_module": "@jupyter-widgets/controls",
            "_model_module_version": "1.5.0",
            "_model_name": "DescriptionStyleModel",
            "_view_count": null,
            "_view_module": "@jupyter-widgets/base",
            "_view_module_version": "1.2.0",
            "_view_name": "StyleView",
            "description_width": ""
          }
        },
        "c811af290e7c481faecddc336bb1063f": {
          "model_module": "@jupyter-widgets/base",
          "model_name": "LayoutModel",
          "model_module_version": "1.2.0",
          "state": {
            "_model_module": "@jupyter-widgets/base",
            "_model_module_version": "1.2.0",
            "_model_name": "LayoutModel",
            "_view_count": null,
            "_view_module": "@jupyter-widgets/base",
            "_view_module_version": "1.2.0",
            "_view_name": "LayoutView",
            "align_content": null,
            "align_items": null,
            "align_self": null,
            "border": null,
            "bottom": null,
            "display": null,
            "flex": null,
            "flex_flow": null,
            "grid_area": null,
            "grid_auto_columns": null,
            "grid_auto_flow": null,
            "grid_auto_rows": null,
            "grid_column": null,
            "grid_gap": null,
            "grid_row": null,
            "grid_template_areas": null,
            "grid_template_columns": null,
            "grid_template_rows": null,
            "height": null,
            "justify_content": null,
            "justify_items": null,
            "left": null,
            "margin": null,
            "max_height": null,
            "max_width": null,
            "min_height": null,
            "min_width": null,
            "object_fit": null,
            "object_position": null,
            "order": null,
            "overflow": null,
            "overflow_x": null,
            "overflow_y": null,
            "padding": null,
            "right": null,
            "top": null,
            "visibility": null,
            "width": null
          }
        },
        "99ac793fbd3d4b729ea771e49766f9b7": {
          "model_module": "@jupyter-widgets/controls",
          "model_name": "ProgressStyleModel",
          "model_module_version": "1.5.0",
          "state": {
            "_model_module": "@jupyter-widgets/controls",
            "_model_module_version": "1.5.0",
            "_model_name": "ProgressStyleModel",
            "_view_count": null,
            "_view_module": "@jupyter-widgets/base",
            "_view_module_version": "1.2.0",
            "_view_name": "StyleView",
            "bar_color": null,
            "description_width": ""
          }
        },
        "98026975f6654ffab634a9df30071d54": {
          "model_module": "@jupyter-widgets/base",
          "model_name": "LayoutModel",
          "model_module_version": "1.2.0",
          "state": {
            "_model_module": "@jupyter-widgets/base",
            "_model_module_version": "1.2.0",
            "_model_name": "LayoutModel",
            "_view_count": null,
            "_view_module": "@jupyter-widgets/base",
            "_view_module_version": "1.2.0",
            "_view_name": "LayoutView",
            "align_content": null,
            "align_items": null,
            "align_self": null,
            "border": null,
            "bottom": null,
            "display": null,
            "flex": null,
            "flex_flow": null,
            "grid_area": null,
            "grid_auto_columns": null,
            "grid_auto_flow": null,
            "grid_auto_rows": null,
            "grid_column": null,
            "grid_gap": null,
            "grid_row": null,
            "grid_template_areas": null,
            "grid_template_columns": null,
            "grid_template_rows": null,
            "height": null,
            "justify_content": null,
            "justify_items": null,
            "left": null,
            "margin": null,
            "max_height": null,
            "max_width": null,
            "min_height": null,
            "min_width": null,
            "object_fit": null,
            "object_position": null,
            "order": null,
            "overflow": null,
            "overflow_x": null,
            "overflow_y": null,
            "padding": null,
            "right": null,
            "top": null,
            "visibility": null,
            "width": null
          }
        },
        "e4d2c3a012c240b8b110c738bdfd7a2f": {
          "model_module": "@jupyter-widgets/controls",
          "model_name": "DescriptionStyleModel",
          "model_module_version": "1.5.0",
          "state": {
            "_model_module": "@jupyter-widgets/controls",
            "_model_module_version": "1.5.0",
            "_model_name": "DescriptionStyleModel",
            "_view_count": null,
            "_view_module": "@jupyter-widgets/base",
            "_view_module_version": "1.2.0",
            "_view_name": "StyleView",
            "description_width": ""
          }
        },
        "f97205eb9ce04ec587142c98e658bf18": {
          "model_module": "@jupyter-widgets/controls",
          "model_name": "HBoxModel",
          "model_module_version": "1.5.0",
          "state": {
            "_dom_classes": [],
            "_model_module": "@jupyter-widgets/controls",
            "_model_module_version": "1.5.0",
            "_model_name": "HBoxModel",
            "_view_count": null,
            "_view_module": "@jupyter-widgets/controls",
            "_view_module_version": "1.5.0",
            "_view_name": "HBoxView",
            "box_style": "",
            "children": [
              "IPY_MODEL_3ba82668704941f983cbac5d4f5f1e40",
              "IPY_MODEL_43e12594795045febb0be368e92630de",
              "IPY_MODEL_3bd9438042144187b3428829baa529ba"
            ],
            "layout": "IPY_MODEL_42ee900751e64a259b3ede5f8b2bba2b"
          }
        },
        "3ba82668704941f983cbac5d4f5f1e40": {
          "model_module": "@jupyter-widgets/controls",
          "model_name": "HTMLModel",
          "model_module_version": "1.5.0",
          "state": {
            "_dom_classes": [],
            "_model_module": "@jupyter-widgets/controls",
            "_model_module_version": "1.5.0",
            "_model_name": "HTMLModel",
            "_view_count": null,
            "_view_module": "@jupyter-widgets/controls",
            "_view_module_version": "1.5.0",
            "_view_name": "HTMLView",
            "description": "",
            "description_tooltip": null,
            "layout": "IPY_MODEL_e8859df406b648bea2f105e7141e5b75",
            "placeholder": "​",
            "style": "IPY_MODEL_cd4c0f61808142a4801e76096144acf5",
            "value": "100%"
          }
        },
        "43e12594795045febb0be368e92630de": {
          "model_module": "@jupyter-widgets/controls",
          "model_name": "FloatProgressModel",
          "model_module_version": "1.5.0",
          "state": {
            "_dom_classes": [],
            "_model_module": "@jupyter-widgets/controls",
            "_model_module_version": "1.5.0",
            "_model_name": "FloatProgressModel",
            "_view_count": null,
            "_view_module": "@jupyter-widgets/controls",
            "_view_module_version": "1.5.0",
            "_view_name": "ProgressView",
            "bar_style": "success",
            "description": "",
            "description_tooltip": null,
            "layout": "IPY_MODEL_05ad272b8a5f4fab97e03a70ff23456f",
            "max": 4542,
            "min": 0,
            "orientation": "horizontal",
            "style": "IPY_MODEL_be312ae1fa294658967230949db4e7dc",
            "value": 4542
          }
        },
        "3bd9438042144187b3428829baa529ba": {
          "model_module": "@jupyter-widgets/controls",
          "model_name": "HTMLModel",
          "model_module_version": "1.5.0",
          "state": {
            "_dom_classes": [],
            "_model_module": "@jupyter-widgets/controls",
            "_model_module_version": "1.5.0",
            "_model_name": "HTMLModel",
            "_view_count": null,
            "_view_module": "@jupyter-widgets/controls",
            "_view_module_version": "1.5.0",
            "_view_name": "HTMLView",
            "description": "",
            "description_tooltip": null,
            "layout": "IPY_MODEL_cc6bf98504154503ab0e542d7e0e7bf3",
            "placeholder": "​",
            "style": "IPY_MODEL_7ad600aad3bc40c1b88b15cf78bc30a0",
            "value": " 4542/4542 [00:00&lt;00:00, 25046.38it/s]"
          }
        },
        "42ee900751e64a259b3ede5f8b2bba2b": {
          "model_module": "@jupyter-widgets/base",
          "model_name": "LayoutModel",
          "model_module_version": "1.2.0",
          "state": {
            "_model_module": "@jupyter-widgets/base",
            "_model_module_version": "1.2.0",
            "_model_name": "LayoutModel",
            "_view_count": null,
            "_view_module": "@jupyter-widgets/base",
            "_view_module_version": "1.2.0",
            "_view_name": "LayoutView",
            "align_content": null,
            "align_items": null,
            "align_self": null,
            "border": null,
            "bottom": null,
            "display": null,
            "flex": null,
            "flex_flow": null,
            "grid_area": null,
            "grid_auto_columns": null,
            "grid_auto_flow": null,
            "grid_auto_rows": null,
            "grid_column": null,
            "grid_gap": null,
            "grid_row": null,
            "grid_template_areas": null,
            "grid_template_columns": null,
            "grid_template_rows": null,
            "height": null,
            "justify_content": null,
            "justify_items": null,
            "left": null,
            "margin": null,
            "max_height": null,
            "max_width": null,
            "min_height": null,
            "min_width": null,
            "object_fit": null,
            "object_position": null,
            "order": null,
            "overflow": null,
            "overflow_x": null,
            "overflow_y": null,
            "padding": null,
            "right": null,
            "top": null,
            "visibility": null,
            "width": null
          }
        },
        "e8859df406b648bea2f105e7141e5b75": {
          "model_module": "@jupyter-widgets/base",
          "model_name": "LayoutModel",
          "model_module_version": "1.2.0",
          "state": {
            "_model_module": "@jupyter-widgets/base",
            "_model_module_version": "1.2.0",
            "_model_name": "LayoutModel",
            "_view_count": null,
            "_view_module": "@jupyter-widgets/base",
            "_view_module_version": "1.2.0",
            "_view_name": "LayoutView",
            "align_content": null,
            "align_items": null,
            "align_self": null,
            "border": null,
            "bottom": null,
            "display": null,
            "flex": null,
            "flex_flow": null,
            "grid_area": null,
            "grid_auto_columns": null,
            "grid_auto_flow": null,
            "grid_auto_rows": null,
            "grid_column": null,
            "grid_gap": null,
            "grid_row": null,
            "grid_template_areas": null,
            "grid_template_columns": null,
            "grid_template_rows": null,
            "height": null,
            "justify_content": null,
            "justify_items": null,
            "left": null,
            "margin": null,
            "max_height": null,
            "max_width": null,
            "min_height": null,
            "min_width": null,
            "object_fit": null,
            "object_position": null,
            "order": null,
            "overflow": null,
            "overflow_x": null,
            "overflow_y": null,
            "padding": null,
            "right": null,
            "top": null,
            "visibility": null,
            "width": null
          }
        },
        "cd4c0f61808142a4801e76096144acf5": {
          "model_module": "@jupyter-widgets/controls",
          "model_name": "DescriptionStyleModel",
          "model_module_version": "1.5.0",
          "state": {
            "_model_module": "@jupyter-widgets/controls",
            "_model_module_version": "1.5.0",
            "_model_name": "DescriptionStyleModel",
            "_view_count": null,
            "_view_module": "@jupyter-widgets/base",
            "_view_module_version": "1.2.0",
            "_view_name": "StyleView",
            "description_width": ""
          }
        },
        "05ad272b8a5f4fab97e03a70ff23456f": {
          "model_module": "@jupyter-widgets/base",
          "model_name": "LayoutModel",
          "model_module_version": "1.2.0",
          "state": {
            "_model_module": "@jupyter-widgets/base",
            "_model_module_version": "1.2.0",
            "_model_name": "LayoutModel",
            "_view_count": null,
            "_view_module": "@jupyter-widgets/base",
            "_view_module_version": "1.2.0",
            "_view_name": "LayoutView",
            "align_content": null,
            "align_items": null,
            "align_self": null,
            "border": null,
            "bottom": null,
            "display": null,
            "flex": null,
            "flex_flow": null,
            "grid_area": null,
            "grid_auto_columns": null,
            "grid_auto_flow": null,
            "grid_auto_rows": null,
            "grid_column": null,
            "grid_gap": null,
            "grid_row": null,
            "grid_template_areas": null,
            "grid_template_columns": null,
            "grid_template_rows": null,
            "height": null,
            "justify_content": null,
            "justify_items": null,
            "left": null,
            "margin": null,
            "max_height": null,
            "max_width": null,
            "min_height": null,
            "min_width": null,
            "object_fit": null,
            "object_position": null,
            "order": null,
            "overflow": null,
            "overflow_x": null,
            "overflow_y": null,
            "padding": null,
            "right": null,
            "top": null,
            "visibility": null,
            "width": null
          }
        },
        "be312ae1fa294658967230949db4e7dc": {
          "model_module": "@jupyter-widgets/controls",
          "model_name": "ProgressStyleModel",
          "model_module_version": "1.5.0",
          "state": {
            "_model_module": "@jupyter-widgets/controls",
            "_model_module_version": "1.5.0",
            "_model_name": "ProgressStyleModel",
            "_view_count": null,
            "_view_module": "@jupyter-widgets/base",
            "_view_module_version": "1.2.0",
            "_view_name": "StyleView",
            "bar_color": null,
            "description_width": ""
          }
        },
        "cc6bf98504154503ab0e542d7e0e7bf3": {
          "model_module": "@jupyter-widgets/base",
          "model_name": "LayoutModel",
          "model_module_version": "1.2.0",
          "state": {
            "_model_module": "@jupyter-widgets/base",
            "_model_module_version": "1.2.0",
            "_model_name": "LayoutModel",
            "_view_count": null,
            "_view_module": "@jupyter-widgets/base",
            "_view_module_version": "1.2.0",
            "_view_name": "LayoutView",
            "align_content": null,
            "align_items": null,
            "align_self": null,
            "border": null,
            "bottom": null,
            "display": null,
            "flex": null,
            "flex_flow": null,
            "grid_area": null,
            "grid_auto_columns": null,
            "grid_auto_flow": null,
            "grid_auto_rows": null,
            "grid_column": null,
            "grid_gap": null,
            "grid_row": null,
            "grid_template_areas": null,
            "grid_template_columns": null,
            "grid_template_rows": null,
            "height": null,
            "justify_content": null,
            "justify_items": null,
            "left": null,
            "margin": null,
            "max_height": null,
            "max_width": null,
            "min_height": null,
            "min_width": null,
            "object_fit": null,
            "object_position": null,
            "order": null,
            "overflow": null,
            "overflow_x": null,
            "overflow_y": null,
            "padding": null,
            "right": null,
            "top": null,
            "visibility": null,
            "width": null
          }
        },
        "7ad600aad3bc40c1b88b15cf78bc30a0": {
          "model_module": "@jupyter-widgets/controls",
          "model_name": "DescriptionStyleModel",
          "model_module_version": "1.5.0",
          "state": {
            "_model_module": "@jupyter-widgets/controls",
            "_model_module_version": "1.5.0",
            "_model_name": "DescriptionStyleModel",
            "_view_count": null,
            "_view_module": "@jupyter-widgets/base",
            "_view_module_version": "1.2.0",
            "_view_name": "StyleView",
            "description_width": ""
          }
        }
      }
    }
  },
  "cells": [
    {
      "cell_type": "markdown",
      "metadata": {
        "id": "view-in-github",
        "colab_type": "text"
      },
      "source": [
        "<a href=\"https://colab.research.google.com/github/trudramukerji14/Gaussianfield/blob/main/MNIST2_0.ipynb\" target=\"_parent\"><img src=\"https://colab.research.google.com/assets/colab-badge.svg\" alt=\"Open In Colab\"/></a>"
      ]
    },
    {
      "cell_type": "markdown",
      "source": [
        "This is a rough implementation of the model used in [\"Semi-Supervised Learning Using Gaussian Fields and Harmonic Functions\"](https://mlg.eng.cam.ac.uk/zoubin/papers/zgl.pdf) using Pytorch. This is still an ongoing work in process as of 10/30/22 more updated versions of this implementation will follow. "
      ],
      "metadata": {
        "id": "pzvRBXXveeTx"
      }
    },
    {
      "cell_type": "code",
      "execution_count": null,
      "metadata": {
        "id": "2RktpCbBoZQN"
      },
      "outputs": [],
      "source": [
        "import torch\n",
        "from torchvision import datasets\n",
        "from torchvision.transforms import ToTensor\n",
        "from torch.autograd import Variable\n",
        "import numpy as np\n",
        "from numpy import linalg as LA\n",
        "import matplotlib.pyplot as plt\n",
        "\n",
        "\n"
      ]
    },
    {
      "cell_type": "markdown",
      "source": [
        "We partition our dataset $\\mathcal{D}$ into training data (labeled) $\\mathcal{D}_{1}$ data and test data (unlabeled data) $\\mathcal{D}_{2}$. For the semi-supervised setting, we take $\\mathcal{D}_{1}$ to consist of labeled data and $\\mathcal{D}_{2}$ to consist of unlabeled data."
      ],
      "metadata": {
        "id": "7PrqfJfDk8PH"
      }
    },
    {
      "cell_type": "code",
      "source": [
        "#Loading the MNIST training and test data:\n",
        "\n",
        "train_data = datasets.MNIST(\n",
        "    root = 'data',\n",
        "    train = True,                         \n",
        "    transform = ToTensor(), \n",
        "    download = True,            \n",
        ")\n",
        "test_data = datasets.MNIST(\n",
        "    root = 'data', \n",
        "    train = False, \n",
        "    transform = ToTensor()\n",
        ")\n",
        "\n",
        "\n"
      ],
      "metadata": {
        "id": "FFsnIP8RobP3",
        "colab": {
          "base_uri": "https://localhost:8080/",
          "height": 408,
          "referenced_widgets": [
            "a000717ddcad430f95fd2bc9dd79bf5e",
            "0bcf467133aa4200ab91271201f76967",
            "c6097b638ae749eb972c02141f9aa13e",
            "0468251f79bf49de84ef9a048d7b7d54",
            "47c17a6795dc4cc6bd30c0bbc09ffae5",
            "116fd0c53b764f2facb916f069b7a19d",
            "e8e94b5b432b498f8a478602e2a309f3",
            "929d6939b77d4d48a7b4cc60b123f9a8",
            "7b3226c16b4d49a0af3da9ff0e69edb1",
            "beb6242bc0844d5daab570e48f068ed6",
            "8ea24518293a4dac8dc42c0211ee949d",
            "89a62ee37bc1436daa44164e244a7a6a",
            "4dea3d91939a4afe8a1272d335287b9a",
            "90b826f0970748d8b5fa74b8c7df2b68",
            "10fca22719474fde87d53f9ea7012376",
            "29b9952420ca458891275ecd82c8b7c6",
            "23076309d1ad41aea3d8393d913fae38",
            "65a84fce217347ddb4c9e795dda1de65",
            "807b3a6bb2ff479db1e20d94ee715f2f",
            "fa126d6dbc144d869efedbfaba627c7e",
            "b0d820f65b3b4bd59f12f6ee0e61fa34",
            "b5e7c30e7b6b4b549c56855e0b15c94d",
            "f2cac70ba83049d78ccfd462c8f8000e",
            "c4db5e24ad384ecc825728ba4a230fc2",
            "7f796c04c7f5474a9d461c989c9de426",
            "3600b03c4f114ac698640fb8721ed016",
            "fbe69e06a8904d33838f4794246193d0",
            "278c820b96164bcdac036bfd0410d016",
            "01fc3113622f491fb049dab29700fa9f",
            "c811af290e7c481faecddc336bb1063f",
            "99ac793fbd3d4b729ea771e49766f9b7",
            "98026975f6654ffab634a9df30071d54",
            "e4d2c3a012c240b8b110c738bdfd7a2f",
            "f97205eb9ce04ec587142c98e658bf18",
            "3ba82668704941f983cbac5d4f5f1e40",
            "43e12594795045febb0be368e92630de",
            "3bd9438042144187b3428829baa529ba",
            "42ee900751e64a259b3ede5f8b2bba2b",
            "e8859df406b648bea2f105e7141e5b75",
            "cd4c0f61808142a4801e76096144acf5",
            "05ad272b8a5f4fab97e03a70ff23456f",
            "be312ae1fa294658967230949db4e7dc",
            "cc6bf98504154503ab0e542d7e0e7bf3",
            "7ad600aad3bc40c1b88b15cf78bc30a0"
          ]
        },
        "outputId": "2cab1d34-bff5-448b-cbcf-c38ee7f3f7b8"
      },
      "execution_count": null,
      "outputs": [
        {
          "output_type": "stream",
          "name": "stdout",
          "text": [
            "Downloading http://yann.lecun.com/exdb/mnist/train-images-idx3-ubyte.gz\n",
            "Downloading http://yann.lecun.com/exdb/mnist/train-images-idx3-ubyte.gz to data/MNIST/raw/train-images-idx3-ubyte.gz\n"
          ]
        },
        {
          "output_type": "display_data",
          "data": {
            "text/plain": [
              "  0%|          | 0/9912422 [00:00<?, ?it/s]"
            ],
            "application/vnd.jupyter.widget-view+json": {
              "version_major": 2,
              "version_minor": 0,
              "model_id": "a000717ddcad430f95fd2bc9dd79bf5e"
            }
          },
          "metadata": {}
        },
        {
          "output_type": "stream",
          "name": "stdout",
          "text": [
            "Extracting data/MNIST/raw/train-images-idx3-ubyte.gz to data/MNIST/raw\n",
            "\n",
            "Downloading http://yann.lecun.com/exdb/mnist/train-labels-idx1-ubyte.gz\n",
            "Downloading http://yann.lecun.com/exdb/mnist/train-labels-idx1-ubyte.gz to data/MNIST/raw/train-labels-idx1-ubyte.gz\n"
          ]
        },
        {
          "output_type": "display_data",
          "data": {
            "text/plain": [
              "  0%|          | 0/28881 [00:00<?, ?it/s]"
            ],
            "application/vnd.jupyter.widget-view+json": {
              "version_major": 2,
              "version_minor": 0,
              "model_id": "89a62ee37bc1436daa44164e244a7a6a"
            }
          },
          "metadata": {}
        },
        {
          "output_type": "stream",
          "name": "stdout",
          "text": [
            "Extracting data/MNIST/raw/train-labels-idx1-ubyte.gz to data/MNIST/raw\n",
            "\n",
            "Downloading http://yann.lecun.com/exdb/mnist/t10k-images-idx3-ubyte.gz\n",
            "Downloading http://yann.lecun.com/exdb/mnist/t10k-images-idx3-ubyte.gz to data/MNIST/raw/t10k-images-idx3-ubyte.gz\n"
          ]
        },
        {
          "output_type": "display_data",
          "data": {
            "text/plain": [
              "  0%|          | 0/1648877 [00:00<?, ?it/s]"
            ],
            "application/vnd.jupyter.widget-view+json": {
              "version_major": 2,
              "version_minor": 0,
              "model_id": "f2cac70ba83049d78ccfd462c8f8000e"
            }
          },
          "metadata": {}
        },
        {
          "output_type": "stream",
          "name": "stdout",
          "text": [
            "Extracting data/MNIST/raw/t10k-images-idx3-ubyte.gz to data/MNIST/raw\n",
            "\n",
            "Downloading http://yann.lecun.com/exdb/mnist/t10k-labels-idx1-ubyte.gz\n",
            "Downloading http://yann.lecun.com/exdb/mnist/t10k-labels-idx1-ubyte.gz to data/MNIST/raw/t10k-labels-idx1-ubyte.gz\n"
          ]
        },
        {
          "output_type": "display_data",
          "data": {
            "text/plain": [
              "  0%|          | 0/4542 [00:00<?, ?it/s]"
            ],
            "application/vnd.jupyter.widget-view+json": {
              "version_major": 2,
              "version_minor": 0,
              "model_id": "f97205eb9ce04ec587142c98e658bf18"
            }
          },
          "metadata": {}
        },
        {
          "output_type": "stream",
          "name": "stdout",
          "text": [
            "Extracting data/MNIST/raw/t10k-labels-idx1-ubyte.gz to data/MNIST/raw\n",
            "\n"
          ]
        }
      ]
    },
    {
      "cell_type": "code",
      "source": [
        "#To ease computation we see if we can reduce the size of the training and test data set:\n",
        "\n",
        "nb_selected_train_data = 600\n",
        "nb_selected_test_data = 250\n",
        "print(train_data.data.shape)\n",
        "print(test_data.data.shape)\n",
        "#\n",
        "train_data.data = train_data.data[:nb_selected_train_data:,]\n",
        "train_data.targets = train_data.targets[:nb_selected_train_data:,]\n",
        "print(train_data.data.shape)\n",
        "print(train_data.targets.shape)\n",
        "\n",
        "\n",
        "\n",
        "test_data.data = test_data.data[:nb_selected_test_data:,]\n",
        "test_data.targets = test_data.targets[:nb_selected_test_data:,]\n",
        "print(test_data.data.shape)\n",
        "print(test_data.targets.shape)"
      ],
      "metadata": {
        "colab": {
          "base_uri": "https://localhost:8080/"
        },
        "id": "iidmHygUYDcS",
        "outputId": "f28cf1f0-b654-48e1-be16-6364dc46f097"
      },
      "execution_count": null,
      "outputs": [
        {
          "output_type": "stream",
          "name": "stdout",
          "text": [
            "torch.Size([60000, 28, 28])\n",
            "torch.Size([10000, 28, 28])\n",
            "torch.Size([600, 28, 28])\n",
            "torch.Size([600])\n",
            "torch.Size([250, 28, 28])\n",
            "torch.Size([250])\n"
          ]
        }
      ]
    },
    {
      "cell_type": "code",
      "source": [
        "#To make this a binary classification problem, we seperate 0's and 1's\n",
        "train_subset_indices = ((train_data.targets == 0) + (train_data.targets == 1)).nonzero().view(-1)\n",
        "test_subset_indices = ((test_data.targets == 0) + (test_data.targets == 1)).nonzero().view(-1)\n",
        "\n",
        "train_data.data = train_data.data[train_subset_indices]\n",
        "train_data.targets = train_data.targets[train_subset_indices]\n",
        "test_data.data = test_data.data[test_subset_indices]\n",
        "test_data.targets = test_data.targets[test_subset_indices]\n"
      ],
      "metadata": {
        "id": "dbL-B3jrYVjJ"
      },
      "execution_count": null,
      "outputs": []
    },
    {
      "cell_type": "markdown",
      "source": [
        "\n",
        "Given $N$ datapoints in $\\mathbb{R}^{m}$, we define the weight matrix as $W$ whose $ij$ entries are given by \n",
        "$$w_{ij} = \\exp\\bigg(\\sum^{m}_{d=1} (x_{id}-x_{jd})^{2}/\\sigma^{2}_{d}\\bigg)$$\n",
        "So a naive approach would be to perform this computation that takes $O(m)$ time $N^{2}$ times this gives a time of $O(mN^{2})$ to compute the matrix $W$. We then can set $\\sigma$ to be the variable to be optimized with pytorch . $\\sigma$ is the hyperparameter to be tuned for this model with regards to the entropy defined below."
      ],
      "metadata": {
        "id": "gS0Wb6-zXR80"
      }
    },
    {
      "cell_type": "code",
      "source": [
        "#Takes sigma as an input\n",
        "\n",
        "def wtrain(i,j,sigma):\n",
        "   sigma2 = torch.square(sigma)\n",
        "   s = train_data.data[i]\n",
        "   t = train_data.data[j]\n",
        "   s = torch.flatten(s)\n",
        "   t = torch.flatten(t)\n",
        "   d = (s-t)/1000\n",
        "   d = d/sigma2\n",
        "   d = (torch.norm(d))**2\n",
        "   d = torch.exp(-d)\n",
        "   return d\n",
        "\n",
        "def wtraintest(i,j, sigma):\n",
        "   sigma2 = torch.square(sigma)\n",
        "   s = train_data.data[i]\n",
        "   t = test_data.data[j]\n",
        "   s = torch.flatten(s)\n",
        "   t = torch.flatten(t)\n",
        "   d = (s-t)/1000\n",
        "   d = d/sigma2\n",
        "   d = (torch.norm(d))**2\n",
        "   d = torch.exp(-d)\n",
        "   return d\n",
        "\n",
        "def wtest(i,j,sigma):\n",
        "   sigma2 = torch.square(sigma)\n",
        "   s = test_data.data[i]\n",
        "   t = test_data.data[j]\n",
        "   s = torch.flatten(s)\n",
        "   t = torch.flatten(t)\n",
        "   d = (s-t)/1000\n",
        "   d = d/sigma2\n",
        "   d = (torch.norm(d))**2\n",
        "   d = torch.exp(-d)\n",
        "   return d\n",
        "\n"
      ],
      "metadata": {
        "id": "IXgL6uT1UodQ"
      },
      "execution_count": null,
      "outputs": []
    },
    {
      "cell_type": "markdown",
      "source": [
        "The harmonic solution $\\Delta{f}=0$ subject to the given boundary conditions $f(i) = y_{i}$ for $i \\in D_{1}$ is given by \n",
        "    \\begin{equation} \\tag{5}\n",
        "            f_{u} = (D_{uu} -W_{uu})^{-1}W_{ul}f_{l}\n",
        "    \\end{equation}\n",
        "which is what's given by the function `groundstate(sigma)` below\n"
      ],
      "metadata": {
        "id": "MS7Xw9S4kIt5"
      }
    },
    {
      "cell_type": "code",
      "source": [
        "xtrain = (np.array(list(train_subset_indices)))\n",
        "Ntrain = xtrain.size\n",
        "xtest = (np.array(list(test_subset_indices)))\n",
        "Ntest = xtest.size\n",
        "xtrain = np.arange(Ntrain)\n",
        "xtest = np.arange(Ntest)\n",
        "\n",
        "\n",
        "\n",
        "def Wuu(sigma):\n",
        "  A = torch.zeros((Ntest,Ntest))\n",
        "  for i in xtest:\n",
        "    for j in xtest:\n",
        "     A[i,j] = wtest(i,j,sigma)\n",
        "  return A\n",
        "\n",
        "def  Wlu(sigma):\n",
        "#Define Wlu:\n",
        "  A = torch.zeros((Ntrain,Ntest))\n",
        "  for i in xtrain:\n",
        "    for j in xtest:\n",
        "      A[i,j] = wtraintest(i,j,sigma)\n",
        "  return A\n",
        "\n",
        "\n",
        "\n",
        "def Wll(sigma):\n",
        "#Define Wll:\n",
        "  A = torch.zeros((Ntrain, Ntrain))\n",
        "  for i in xtrain:\n",
        "    for j in xtrain:\n",
        "      A[i,j] = wtrain(i,j,sigma)\n",
        "  return A\n",
        "\n",
        "M = 28*28\n",
        "sigma = np.ones(M)\n",
        "sigma = Variable(torch.tensor(sigma), requires_grad=True)\n",
        "\n",
        "\n",
        "#Define W:\n",
        "def W(sigma):\n",
        "  A = Wll(sigma)\n",
        "  B = Wlu(sigma)\n",
        "  C = torch.t(B)\n",
        "  D = Wuu(sigma)\n",
        "  Wl = torch.cat([A,B], dim = 1 ) #Wl = np.block([Wll, Wlu])\n",
        "  Wu = torch.cat([C,D], dim = 1 ) #Wu = np.block([Wul, Wuu])\n",
        "  W = torch.cat([Wl, Wu], dim = 0) #W = np.block([[Wl],[Wu]])\n",
        "  return W\n",
        "\n",
        "def Duu(sigma):\n",
        "  A = W(sigma)\n",
        "  diagonal = torch.sum(A, axis = 1)\n",
        "  diagonalu = diagonal[-Ntest:]\n",
        "  A = torch.diag(diagonalu)\n",
        "  return A\n",
        "\n",
        "def operator(sigma):\n",
        "  A = Duu(sigma)\n",
        "  B = Wuu(sigma)\n",
        "  A = A-B\n",
        "  A = torch.linalg.inv(A)\n",
        "  return A\n",
        "\n",
        "\n",
        "\n",
        "\n",
        "def groundstate(sigma):\n",
        "  train_data.targets = train_data.targets.type(torch.FloatTensor)\n",
        "  B = Wlu(sigma)\n",
        "  C = torch.t(B)\n",
        "  fl = np.array(list(train_data.targets))\n",
        "  fl = torch.from_numpy(fl)\n",
        "  A = operator(sigma)\n",
        "  fu = torch.matmul(C, fl)\n",
        "  fu = torch.matmul(A,fu)\n",
        "  return fu\n",
        "\n",
        "\n",
        "\n",
        "\n",
        "\n",
        "\n",
        "\n",
        "\n",
        "\n",
        "\n",
        "\n",
        "\n",
        "\n",
        "\n"
      ],
      "metadata": {
        "id": "hfQzN1Tu8NR-"
      },
      "execution_count": null,
      "outputs": []
    },
    {
      "cell_type": "code",
      "source": [
        "#Need to check this\n",
        "\n",
        "Xuu = Wuu(sigma)\n",
        "#print(Wuu.shape)\n",
        "Xlu = Wlu(sigma)\n",
        "print(Xlu.shape)\n",
        "Xul = torch.t(Xlu)\n",
        "print(Xul.shape)\n",
        "Xll = Wll(sigma)\n",
        "print(Xll.shape)\n",
        "X = W(sigma)\n",
        "X = Duu(sigma)\n",
        "X = operator(sigma)\n",
        "xu = groundstate(sigma)\n",
        "\n"
      ],
      "metadata": {
        "colab": {
          "base_uri": "https://localhost:8080/"
        },
        "id": "wJ-VlBEULd3M",
        "outputId": "dec4d428-02a0-43b6-8c82-96b94975124b"
      },
      "execution_count": null,
      "outputs": [
        {
          "output_type": "stream",
          "name": "stdout",
          "text": [
            "torch.Size([116, 45])\n",
            "torch.Size([45, 116])\n",
            "torch.Size([116, 116])\n"
          ]
        }
      ]
    },
    {
      "cell_type": "markdown",
      "source": [
        "The cost function used is the entropy:\n",
        "\\begin{equation}\n",
        "    H(f) =  \\frac{1}{u}\\sum H_{i}(f_{u}(i))\n",
        "\\end{equation}\n",
        "where \n",
        "\\begin{equation}\n",
        " H_{i}(f_{u}(i))=-f_{u}(i)\\log(f_{u}(i)) - (1-f_{u}(i))\\log(1-f_{u}(i))   \n",
        "\\end{equation}\n",
        "and $u$ is the number of test vertices"
      ],
      "metadata": {
        "id": "7vUwolG7ftM5"
      }
    },
    {
      "cell_type": "code",
      "source": [
        "def crossentropy(f,i):\n",
        "  x = -1*(f[i]*torch.log(f[i])+(1-f[i])*(torch.log(1-f[i])))\n",
        "  return x\n",
        "\n",
        "\n",
        "def averagelabelentropy(sigma):\n",
        "  f = groundstate(sigma)\n",
        "  N = len(f)\n",
        "  x = 0\n",
        "  for i in np.arange(len(f)):\n",
        "    x = x + crossentropy(f,i)\n",
        "    x = x/N\n",
        "  return x\n",
        "\n",
        "print(averagelabelentropy(sigma))\n"
      ],
      "metadata": {
        "colab": {
          "base_uri": "https://localhost:8080/"
        },
        "id": "H37pV4qcRyGQ",
        "outputId": "4d9e5da2-6116-49d1-c313-71fbd77471ea"
      },
      "execution_count": null,
      "outputs": [
        {
          "output_type": "stream",
          "name": "stdout",
          "text": [
            "tensor(0.0084, grad_fn=<DivBackward0>)\n"
          ]
        }
      ]
    },
    {
      "cell_type": "code",
      "source": [
        "# set up the optimizer\n",
        "opt = torch.optim.Adam([sigma], lr=0.01)\n",
        "\n",
        "#number of steps in the optimization routine\n",
        "steps =  10\n",
        "\n",
        "# the final stage of optimization isn't always the best, so we keep track of\n",
        "# the best parameters along the way\n",
        "best_cost = averagelabelentropy(sigma)\n",
        "\n",
        "\n",
        "print(\"Cost after 0 steps is {:.4f}\".format(averagelabelentropy(sigma)))\n",
        "\n",
        "# optimization begins\n",
        "for n in range(steps):\n",
        "    opt.zero_grad()\n",
        "    loss = averagelabelentropy(sigma)\n",
        "    loss.backward()\n",
        "    opt.step()\n",
        "\n",
        "    # keeps track of best parameters\n",
        "    if loss < best_cost \n",
        "        best_cost = loss\n",
        "        best_params = sigma\n",
        "\n",
        "    # Keep track of progress every 10 steps\n",
        "    if n % 10 == 9 or n == steps - 1:\n",
        "        print(\"Cost after {} steps is {:.4f}\".format(n + 1, loss))\n",
        "\n",
        "\n",
        "\n",
        "\n"
      ],
      "metadata": {
        "id": "-OZFKeoCRcCz",
        "colab": {
          "base_uri": "https://localhost:8080/"
        },
        "outputId": "926797e7-e309-43c2-a6c3-12554a3571d3"
      },
      "execution_count": null,
      "outputs": [
        {
          "output_type": "stream",
          "name": "stdout",
          "text": [
            "Cost after 0 steps is 0.0084\n",
            "Cost after 10 steps is 0.0028\n"
          ]
        }
      ]
    },
    {
      "cell_type": "code",
      "source": [
        "best_sigma = best_params\n",
        "xu = groundstate(best_sigma)\n",
        "print(xu)\n",
        "\n"
      ],
      "metadata": {
        "colab": {
          "base_uri": "https://localhost:8080/"
        },
        "id": "trVX4GE3_Egi",
        "outputId": "227de78c-2f2c-4555-c620-950518d1e4ab"
      },
      "execution_count": null,
      "outputs": [
        {
          "output_type": "stream",
          "name": "stdout",
          "text": [
            "tensor([0.9938, 0.9104, 0.9926, 0.9441, 0.9156, 0.9905, 0.9035, 0.8261, 0.9934,\n",
            "        0.9927, 0.9928, 0.9914, 0.9931, 0.9926, 0.9294, 0.9934, 0.9529, 0.8776,\n",
            "        0.9931, 0.9933, 0.9918, 0.9911], grad_fn=<MvBackward0>)\n"
          ]
        }
      ]
    },
    {
      "cell_type": "code",
      "source": [
        "#How do I count the 0's in the training data?\n",
        "\n",
        "#train_subset_indices = ((train_data.targets == 0) + (train_data.targets == 1)).nonzero().view(-1)\n",
        "\n",
        "train_zero_indices = (train_data.targets == 0).nonzero().view(-1)\n",
        "print(train_zero_indices)\n",
        "print(train_zero_indices.shape)\n",
        "Nzeros = np.array(list(train_zero_indices.shape)).sum()\n",
        "print(Nzeros)\n",
        "\n",
        "train_one_indices = (train_data.targets == 1).nonzero().view(-1)\n",
        "print(train_one_indices)\n",
        "print(train_one_indices.shape)\n",
        "Nones = np.array(list(train_one_indices.shape)).sum()\n",
        "print(Nones)\n",
        "\n",
        "q = Nones/(Nzeros + Nones)\n",
        "\n",
        "\n",
        "\n",
        "\n",
        "#print(train_data.targets.shape)\n",
        "#print(test_data.data.shape)\n",
        "#print(test_data.targets.shape)\n",
        "#N = ((train_data.targets.shape)+ test_data.targets.shape)\n",
        "#print(N)\n",
        "#N = (np.array(list(N))).sum()\n",
        "#print(N)\n"
      ],
      "metadata": {
        "colab": {
          "base_uri": "https://localhost:8080/"
        },
        "id": "aNn3DAao_v7p",
        "outputId": "197f992f-05eb-4466-e089-b7e21cb70343"
      },
      "execution_count": null,
      "outputs": [
        {
          "output_type": "stream",
          "name": "stdout",
          "text": [
            "tensor([  0,   5,   8,   9,  11,  12,  14,  16,  17,  20,  23,  24,  25,  30,\n",
            "         33,  34,  35,  36,  41,  42,  46,  50,  52,  53,  55,  57,  59,  60,\n",
            "         61,  63,  65,  69,  71,  72,  73,  77,  78,  84,  90,  94,  95,  96,\n",
            "         97, 101, 102, 105, 106, 107, 110, 113])\n",
            "torch.Size([50])\n",
            "50\n",
            "tensor([  1,   2,   3,   4,   6,   7,  10,  13,  15,  18,  19,  21,  22,  26,\n",
            "         27,  28,  29,  31,  32,  37,  38,  39,  40,  43,  44,  45,  47,  48,\n",
            "         49,  51,  54,  56,  58,  62,  64,  66,  67,  68,  70,  74,  75,  76,\n",
            "         79,  80,  81,  82,  83,  85,  86,  87,  88,  89,  91,  92,  93,  98,\n",
            "         99, 100, 103, 104, 108, 109, 111, 112, 114, 115])\n",
            "torch.Size([66])\n",
            "66\n"
          ]
        }
      ]
    },
    {
      "cell_type": "markdown",
      "source": [
        "Let's assume that the proportion of ones to zeros in the training data is represented by $q$ and the proportion of zeros to ones in the training data is represented by $1-q$. We then classify a vertex $i$ or datapoint as a one\n",
        " as  if:   $$q \\frac{f_{u}(i)}{\\sum_{i} f_{u}(i)} > (1-q)\\frac{1-f_{u}(i)}{\\sum_{i}(1- f_{u}(i))}$$\n",
        "We define a function that applies this to our harmonic function $f_{u}$\n"
      ],
      "metadata": {
        "id": "HaekL1hNKG6O"
      }
    },
    {
      "cell_type": "code",
      "source": [
        "\n",
        "\n",
        "def classify(x):\n",
        "  N = len(x)\n",
        "  y = np.zeros(N)\n",
        "  sum = x.sum()\n",
        "  for i in np.arange(N):\n",
        "     LHS = q*(x[i]/sum) \n",
        "     RHS = (1-q)*((1-x[i])/(N-sum))\n",
        "     if LHS > RHS:\n",
        "       y[i] = 1\n",
        "     else:\n",
        "       y[i] = 0\n",
        "  return y\n",
        "\n",
        "\n",
        "\n",
        "\n",
        "\n"
      ],
      "metadata": {
        "id": "XwlLQ-Y4PWne"
      },
      "execution_count": null,
      "outputs": []
    },
    {
      "cell_type": "markdown",
      "source": [
        "The following codebox is an example of how the classifier works"
      ],
      "metadata": {
        "id": "019GwQfoxFGZ"
      }
    },
    {
      "cell_type": "code",
      "source": [
        "x = xu\n",
        "N = len(x)\n",
        "i = 0\n",
        "sum = x.sum()\n",
        "print(sum)\n",
        "LHS = q*(x[i]/sum)\n",
        "RHS = (1-q)*((1-x[i])/(N-sum))\n",
        "print(LHS,RHS)\n",
        "\n",
        "plt.imshow(test_data.data[i], cmap='gray')\n",
        "plt.title('%i' % test_data.targets[i])\n",
        "plt.show()\n"
      ],
      "metadata": {
        "colab": {
          "base_uri": "https://localhost:8080/",
          "height": 315
        },
        "id": "yNGjjnugTmeE",
        "outputId": "0b196fd4-3429-42fd-d79c-83f932f834d3"
      },
      "execution_count": null,
      "outputs": [
        {
          "output_type": "stream",
          "name": "stdout",
          "text": [
            "tensor(19.7123, grad_fn=<SumBackward0>)\n",
            "tensor(0.0281, grad_fn=<MulBackward0>) tensor(0.0052, grad_fn=<MulBackward0>)\n"
          ]
        },
        {
          "output_type": "display_data",
          "data": {
            "text/plain": [
              "<Figure size 432x288 with 1 Axes>"
            ],
            "image/png": "[encoded data removed]"
          },
          "metadata": {
            "needs_background": "light"
          }
        }
      ]
    },
    {
      "cell_type": "code",
      "source": [
        "xu[0]\n",
        "xu = groundstate(sigma)\n",
        "print(xu)\n",
        "print(q)\n",
        "classified = classify(xu)\n",
        "print(classified)"
      ],
      "metadata": {
        "colab": {
          "base_uri": "https://localhost:8080/"
        },
        "id": "VxyCdrm8Rifz",
        "outputId": "e52d4f40-75be-4d42-df2e-7c48a455fef7"
      },
      "execution_count": null,
      "outputs": [
        {
          "output_type": "stream",
          "name": "stdout",
          "text": [
            "tensor([0.9663, 0.7736, 0.9648, 0.8104, 0.7635, 0.9559, 0.7779, 0.6916, 0.9667,\n",
            "        0.9616, 0.9652, 0.9640, 0.9636, 0.9644, 0.8175, 0.9666, 0.8439, 0.6964,\n",
            "        0.9684, 0.9692, 0.9694, 0.9517, 0.7262, 0.9582, 0.8623, 0.9651, 0.7043,\n",
            "        0.9740, 0.9710, 0.9618, 0.7266, 0.9606, 0.8251, 0.9604, 0.9636, 0.9742,\n",
            "        0.9720, 0.8858, 0.7542, 0.9570, 0.9747, 0.9536, 0.8158, 0.6872, 0.9646],\n",
            "       grad_fn=<MvBackward0>)\n",
            "0.5689655172413793\n",
            "[1. 0. 1. 0. 0. 1. 0. 0. 1. 1. 1. 1. 1. 1. 0. 1. 0. 0. 1. 1. 1. 1. 0. 1.\n",
            " 0. 1. 0. 1. 1. 1. 0. 1. 0. 1. 1. 1. 1. 1. 0. 1. 1. 1. 0. 0. 1.]\n"
          ]
        }
      ]
    },
    {
      "cell_type": "markdown",
      "source": [
        "Since we actually have labels, we can test the accuracy of this approach. Which brings up the function defined in the codebox below\n"
      ],
      "metadata": {
        "id": "YH3WRO4exNwV"
      }
    },
    {
      "cell_type": "code",
      "source": [
        "def accuracy(sigma):\n",
        "  x = groundstate(sigma)\n",
        "  y = classify(x)\n",
        "  t = test_data.targets\n",
        "  t = torch.Tensor.numpy(t)\n",
        "  z = y-t\n",
        "  z = z.sum()/len(z)\n",
        "  z = 1-z\n",
        "  return z\n",
        "  \n"
      ],
      "metadata": {
        "id": "YdkiUZvbB6aZ"
      },
      "execution_count": null,
      "outputs": []
    },
    {
      "cell_type": "code",
      "source": [
        "print(test_data.targets)\n",
        "t = test_data.targets\n",
        "t = torch.Tensor.numpy(t)\n",
        "classified-t\n"
      ],
      "metadata": {
        "colab": {
          "base_uri": "https://localhost:8080/"
        },
        "id": "iWGCkoT_Cauz",
        "outputId": "31413939-ecc7-45a7-b1fd-6f195e0c1f8c"
      },
      "execution_count": null,
      "outputs": [
        {
          "output_type": "stream",
          "name": "stdout",
          "text": [
            "tensor([1, 0, 1, 0, 0, 1, 0, 0, 1, 1, 1, 1, 1, 1, 0, 1, 0, 0, 1, 1, 1, 1, 0, 1,\n",
            "        0, 1, 0, 1, 1, 1, 0, 1, 0, 1, 1, 1, 1, 0, 0, 1, 1, 1, 0, 0, 1])\n"
          ]
        },
        {
          "output_type": "execute_result",
          "data": {
            "text/plain": [
              "array([0., 0., 0., 0., 0., 0., 0., 0., 0., 0., 0., 0., 0., 0., 0., 0., 0.,\n",
              "       0., 0., 0., 0., 0., 0., 0., 0., 0., 0., 0., 0., 0., 0., 0., 0., 0.,\n",
              "       0., 0., 0., 1., 0., 0., 0., 0., 0., 0., 0.])"
            ]
          },
          "metadata": {},
          "execution_count": 50
        }
      ]
    }
  ]
}